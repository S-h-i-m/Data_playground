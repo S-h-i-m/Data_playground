{
 "cells": [
  {
   "cell_type": "code",
   "execution_count": 85,
   "id": "77751419",
   "metadata": {},
   "outputs": [],
   "source": [
    "import pandas as pd\n",
    "import numpy as np\n",
    "import matplotlib.pyplot as plt\n",
    "import statsmodels.api as sm\n",
    "from sklearn.linear_model import LinearRegression"
   ]
  },
  {
   "cell_type": "code",
   "execution_count": 86,
   "id": "041c581e",
   "metadata": {},
   "outputs": [],
   "source": [
    "%matplotlib inline"
   ]
  },
  {
   "cell_type": "markdown",
   "id": "fc867a88",
   "metadata": {},
   "source": [
    "Autoregressive Distributed Lag (ARDL) Model"
   ]
  },
  {
   "cell_type": "code",
   "execution_count": 87,
   "id": "1658ea5e",
   "metadata": {},
   "outputs": [],
   "source": [
    "data = pd.read_csv('austria_hicp.csv')"
   ]
  },
  {
   "cell_type": "code",
   "execution_count": 88,
   "id": "7d279e19",
   "metadata": {},
   "outputs": [
    {
     "data": {
      "text/html": [
       "<div>\n",
       "<style scoped>\n",
       "    .dataframe tbody tr th:only-of-type {\n",
       "        vertical-align: middle;\n",
       "    }\n",
       "\n",
       "    .dataframe tbody tr th {\n",
       "        vertical-align: top;\n",
       "    }\n",
       "\n",
       "    .dataframe thead th {\n",
       "        text-align: right;\n",
       "    }\n",
       "</style>\n",
       "<table border=\"1\" class=\"dataframe\">\n",
       "  <thead>\n",
       "    <tr style=\"text-align: right;\">\n",
       "      <th></th>\n",
       "      <th>date</th>\n",
       "      <th>hicp</th>\n",
       "      <th>d_l_M1</th>\n",
       "      <th>d_l_PKB_adj</th>\n",
       "      <th>price_exp_covid</th>\n",
       "      <th>covid_loans</th>\n",
       "    </tr>\n",
       "  </thead>\n",
       "  <tbody>\n",
       "    <tr>\n",
       "      <th>0</th>\n",
       "      <td>2000Q3</td>\n",
       "      <td>2.033333</td>\n",
       "      <td>0.003312</td>\n",
       "      <td>0.005989</td>\n",
       "      <td>0.0</td>\n",
       "      <td>0.0</td>\n",
       "    </tr>\n",
       "    <tr>\n",
       "      <th>1</th>\n",
       "      <td>2000Q4</td>\n",
       "      <td>2.100000</td>\n",
       "      <td>0.002905</td>\n",
       "      <td>0.013387</td>\n",
       "      <td>0.0</td>\n",
       "      <td>0.0</td>\n",
       "    </tr>\n",
       "    <tr>\n",
       "      <th>2</th>\n",
       "      <td>2001Q1</td>\n",
       "      <td>2.000000</td>\n",
       "      <td>0.038542</td>\n",
       "      <td>-0.002465</td>\n",
       "      <td>0.0</td>\n",
       "      <td>0.0</td>\n",
       "    </tr>\n",
       "    <tr>\n",
       "      <th>3</th>\n",
       "      <td>2001Q2</td>\n",
       "      <td>2.700000</td>\n",
       "      <td>0.019024</td>\n",
       "      <td>-0.002405</td>\n",
       "      <td>0.0</td>\n",
       "      <td>0.0</td>\n",
       "    </tr>\n",
       "    <tr>\n",
       "      <th>4</th>\n",
       "      <td>2001Q3</td>\n",
       "      <td>2.533333</td>\n",
       "      <td>0.014690</td>\n",
       "      <td>0.000660</td>\n",
       "      <td>0.0</td>\n",
       "      <td>0.0</td>\n",
       "    </tr>\n",
       "  </tbody>\n",
       "</table>\n",
       "</div>"
      ],
      "text/plain": [
       "     date      hicp    d_l_M1  d_l_PKB_adj  price_exp_covid  covid_loans\n",
       "0  2000Q3  2.033333  0.003312     0.005989              0.0          0.0\n",
       "1  2000Q4  2.100000  0.002905     0.013387              0.0          0.0\n",
       "2  2001Q1  2.000000  0.038542    -0.002465              0.0          0.0\n",
       "3  2001Q2  2.700000  0.019024    -0.002405              0.0          0.0\n",
       "4  2001Q3  2.533333  0.014690     0.000660              0.0          0.0"
      ]
     },
     "execution_count": 88,
     "metadata": {},
     "output_type": "execute_result"
    }
   ],
   "source": [
    "data.head()"
   ]
  },
  {
   "cell_type": "code",
   "execution_count": 89,
   "id": "05f057a9",
   "metadata": {},
   "outputs": [
    {
     "data": {
      "text/plain": [
       "Index(['date', 'hicp', 'd_l_M1', 'd_l_PKB_adj', 'price_exp_covid',\n",
       "       'covid_loans'],\n",
       "      dtype='object')"
      ]
     },
     "execution_count": 89,
     "metadata": {},
     "output_type": "execute_result"
    }
   ],
   "source": [
    "data.columns"
   ]
  },
  {
   "cell_type": "code",
   "execution_count": 90,
   "id": "96631930",
   "metadata": {},
   "outputs": [
    {
     "data": {
      "text/html": [
       "<div>\n",
       "<style scoped>\n",
       "    .dataframe tbody tr th:only-of-type {\n",
       "        vertical-align: middle;\n",
       "    }\n",
       "\n",
       "    .dataframe tbody tr th {\n",
       "        vertical-align: top;\n",
       "    }\n",
       "\n",
       "    .dataframe thead th {\n",
       "        text-align: right;\n",
       "    }\n",
       "</style>\n",
       "<table border=\"1\" class=\"dataframe\">\n",
       "  <thead>\n",
       "    <tr style=\"text-align: right;\">\n",
       "      <th></th>\n",
       "      <th>date</th>\n",
       "      <th>hicp</th>\n",
       "      <th>d_l_M1</th>\n",
       "      <th>d_l_PKB_adj</th>\n",
       "      <th>price_exp_covid</th>\n",
       "      <th>covid_loans</th>\n",
       "    </tr>\n",
       "  </thead>\n",
       "  <tbody>\n",
       "    <tr>\n",
       "      <th>count</th>\n",
       "      <td>93</td>\n",
       "      <td>93.000000</td>\n",
       "      <td>93.000000</td>\n",
       "      <td>93.000000</td>\n",
       "      <td>93.000000</td>\n",
       "      <td>93.000000</td>\n",
       "    </tr>\n",
       "    <tr>\n",
       "      <th>unique</th>\n",
       "      <td>93</td>\n",
       "      <td>NaN</td>\n",
       "      <td>NaN</td>\n",
       "      <td>NaN</td>\n",
       "      <td>NaN</td>\n",
       "      <td>NaN</td>\n",
       "    </tr>\n",
       "    <tr>\n",
       "      <th>top</th>\n",
       "      <td>2000Q3</td>\n",
       "      <td>NaN</td>\n",
       "      <td>NaN</td>\n",
       "      <td>NaN</td>\n",
       "      <td>NaN</td>\n",
       "      <td>NaN</td>\n",
       "    </tr>\n",
       "    <tr>\n",
       "      <th>freq</th>\n",
       "      <td>1</td>\n",
       "      <td>NaN</td>\n",
       "      <td>NaN</td>\n",
       "      <td>NaN</td>\n",
       "      <td>NaN</td>\n",
       "      <td>NaN</td>\n",
       "    </tr>\n",
       "    <tr>\n",
       "      <th>mean</th>\n",
       "      <td>NaN</td>\n",
       "      <td>2.418996</td>\n",
       "      <td>0.017840</td>\n",
       "      <td>0.003232</td>\n",
       "      <td>4.139068</td>\n",
       "      <td>0.783692</td>\n",
       "    </tr>\n",
       "    <tr>\n",
       "      <th>std</th>\n",
       "      <td>NaN</td>\n",
       "      <td>2.010758</td>\n",
       "      <td>0.014305</td>\n",
       "      <td>0.019280</td>\n",
       "      <td>12.500501</td>\n",
       "      <td>2.189980</td>\n",
       "    </tr>\n",
       "    <tr>\n",
       "      <th>min</th>\n",
       "      <td>NaN</td>\n",
       "      <td>0.200000</td>\n",
       "      <td>-0.028486</td>\n",
       "      <td>-0.119621</td>\n",
       "      <td>0.000000</td>\n",
       "      <td>0.000000</td>\n",
       "    </tr>\n",
       "    <tr>\n",
       "      <th>25%</th>\n",
       "      <td>NaN</td>\n",
       "      <td>1.466667</td>\n",
       "      <td>0.013321</td>\n",
       "      <td>-0.000649</td>\n",
       "      <td>0.000000</td>\n",
       "      <td>0.000000</td>\n",
       "    </tr>\n",
       "    <tr>\n",
       "      <th>50%</th>\n",
       "      <td>NaN</td>\n",
       "      <td>2.000000</td>\n",
       "      <td>0.019340</td>\n",
       "      <td>0.003931</td>\n",
       "      <td>0.000000</td>\n",
       "      <td>0.000000</td>\n",
       "    </tr>\n",
       "    <tr>\n",
       "      <th>75%</th>\n",
       "      <td>NaN</td>\n",
       "      <td>2.400000</td>\n",
       "      <td>0.023190</td>\n",
       "      <td>0.008137</td>\n",
       "      <td>0.000000</td>\n",
       "      <td>0.000000</td>\n",
       "    </tr>\n",
       "    <tr>\n",
       "      <th>max</th>\n",
       "      <td>NaN</td>\n",
       "      <td>11.100000</td>\n",
       "      <td>0.065684</td>\n",
       "      <td>0.106893</td>\n",
       "      <td>55.966667</td>\n",
       "      <td>8.856667</td>\n",
       "    </tr>\n",
       "  </tbody>\n",
       "</table>\n",
       "</div>"
      ],
      "text/plain": [
       "          date       hicp     d_l_M1  d_l_PKB_adj  price_exp_covid  \\\n",
       "count       93  93.000000  93.000000    93.000000        93.000000   \n",
       "unique      93        NaN        NaN          NaN              NaN   \n",
       "top     2000Q3        NaN        NaN          NaN              NaN   \n",
       "freq         1        NaN        NaN          NaN              NaN   \n",
       "mean       NaN   2.418996   0.017840     0.003232         4.139068   \n",
       "std        NaN   2.010758   0.014305     0.019280        12.500501   \n",
       "min        NaN   0.200000  -0.028486    -0.119621         0.000000   \n",
       "25%        NaN   1.466667   0.013321    -0.000649         0.000000   \n",
       "50%        NaN   2.000000   0.019340     0.003931         0.000000   \n",
       "75%        NaN   2.400000   0.023190     0.008137         0.000000   \n",
       "max        NaN  11.100000   0.065684     0.106893        55.966667   \n",
       "\n",
       "        covid_loans  \n",
       "count     93.000000  \n",
       "unique          NaN  \n",
       "top             NaN  \n",
       "freq            NaN  \n",
       "mean       0.783692  \n",
       "std        2.189980  \n",
       "min        0.000000  \n",
       "25%        0.000000  \n",
       "50%        0.000000  \n",
       "75%        0.000000  \n",
       "max        8.856667  "
      ]
     },
     "execution_count": 90,
     "metadata": {},
     "output_type": "execute_result"
    }
   ],
   "source": [
    "data.describe(include='all')"
   ]
  },
  {
   "cell_type": "code",
   "execution_count": 91,
   "id": "9cfe6bad",
   "metadata": {},
   "outputs": [
    {
     "data": {
      "image/png": "[encoded data removed]",
      "text/plain": [
       "<Figure size 640x480 with 1 Axes>"
      ]
     },
     "metadata": {},
     "output_type": "display_data"
    }
   ],
   "source": [
    "plt.plot(data['hicp'])\n",
    "plt.show()"
   ]
  },
  {
   "cell_type": "code",
   "execution_count": null,
   "id": "a7b55d3b",
   "metadata": {},
   "outputs": [],
   "source": []
  },
  {
   "cell_type": "code",
   "execution_count": 92,
   "id": "ee1ad21e",
   "metadata": {},
   "outputs": [],
   "source": [
    "data['lag1_hicp'] = data['hicp'].shift(1)\n",
    "data['lag2_hicp'] = data['hicp'].shift(2)"
   ]
  },
  {
   "cell_type": "code",
   "execution_count": 93,
   "id": "4ced0918",
   "metadata": {},
   "outputs": [
    {
     "data": {
      "text/html": [
       "<div>\n",
       "<style scoped>\n",
       "    .dataframe tbody tr th:only-of-type {\n",
       "        vertical-align: middle;\n",
       "    }\n",
       "\n",
       "    .dataframe tbody tr th {\n",
       "        vertical-align: top;\n",
       "    }\n",
       "\n",
       "    .dataframe thead th {\n",
       "        text-align: right;\n",
       "    }\n",
       "</style>\n",
       "<table border=\"1\" class=\"dataframe\">\n",
       "  <thead>\n",
       "    <tr style=\"text-align: right;\">\n",
       "      <th></th>\n",
       "      <th>date</th>\n",
       "      <th>hicp</th>\n",
       "      <th>d_l_M1</th>\n",
       "      <th>d_l_PKB_adj</th>\n",
       "      <th>price_exp_covid</th>\n",
       "      <th>covid_loans</th>\n",
       "      <th>lag1_hicp</th>\n",
       "      <th>lag2_hicp</th>\n",
       "    </tr>\n",
       "  </thead>\n",
       "  <tbody>\n",
       "    <tr>\n",
       "      <th>0</th>\n",
       "      <td>2000Q3</td>\n",
       "      <td>2.033333</td>\n",
       "      <td>0.003312</td>\n",
       "      <td>0.005989</td>\n",
       "      <td>0.0</td>\n",
       "      <td>0.0</td>\n",
       "      <td>NaN</td>\n",
       "      <td>NaN</td>\n",
       "    </tr>\n",
       "    <tr>\n",
       "      <th>1</th>\n",
       "      <td>2000Q4</td>\n",
       "      <td>2.100000</td>\n",
       "      <td>0.002905</td>\n",
       "      <td>0.013387</td>\n",
       "      <td>0.0</td>\n",
       "      <td>0.0</td>\n",
       "      <td>2.033333</td>\n",
       "      <td>NaN</td>\n",
       "    </tr>\n",
       "    <tr>\n",
       "      <th>2</th>\n",
       "      <td>2001Q1</td>\n",
       "      <td>2.000000</td>\n",
       "      <td>0.038542</td>\n",
       "      <td>-0.002465</td>\n",
       "      <td>0.0</td>\n",
       "      <td>0.0</td>\n",
       "      <td>2.100000</td>\n",
       "      <td>2.033333</td>\n",
       "    </tr>\n",
       "    <tr>\n",
       "      <th>3</th>\n",
       "      <td>2001Q2</td>\n",
       "      <td>2.700000</td>\n",
       "      <td>0.019024</td>\n",
       "      <td>-0.002405</td>\n",
       "      <td>0.0</td>\n",
       "      <td>0.0</td>\n",
       "      <td>2.000000</td>\n",
       "      <td>2.100000</td>\n",
       "    </tr>\n",
       "    <tr>\n",
       "      <th>4</th>\n",
       "      <td>2001Q3</td>\n",
       "      <td>2.533333</td>\n",
       "      <td>0.014690</td>\n",
       "      <td>0.000660</td>\n",
       "      <td>0.0</td>\n",
       "      <td>0.0</td>\n",
       "      <td>2.700000</td>\n",
       "      <td>2.000000</td>\n",
       "    </tr>\n",
       "  </tbody>\n",
       "</table>\n",
       "</div>"
      ],
      "text/plain": [
       "     date      hicp    d_l_M1  d_l_PKB_adj  price_exp_covid  covid_loans  \\\n",
       "0  2000Q3  2.033333  0.003312     0.005989              0.0          0.0   \n",
       "1  2000Q4  2.100000  0.002905     0.013387              0.0          0.0   \n",
       "2  2001Q1  2.000000  0.038542    -0.002465              0.0          0.0   \n",
       "3  2001Q2  2.700000  0.019024    -0.002405              0.0          0.0   \n",
       "4  2001Q3  2.533333  0.014690     0.000660              0.0          0.0   \n",
       "\n",
       "   lag1_hicp  lag2_hicp  \n",
       "0        NaN        NaN  \n",
       "1   2.033333        NaN  \n",
       "2   2.100000   2.033333  \n",
       "3   2.000000   2.100000  \n",
       "4   2.700000   2.000000  "
      ]
     },
     "execution_count": 93,
     "metadata": {},
     "output_type": "execute_result"
    }
   ],
   "source": [
    "data.head()"
   ]
  },
  {
   "cell_type": "code",
   "execution_count": 94,
   "id": "ef691b2e",
   "metadata": {},
   "outputs": [],
   "source": [
    "model_data = data.drop(data.index[:2])\n",
    "\n",
    "predictors = model_data[['d_l_M1', 'd_l_PKB_adj', 'price_exp_covid', 'covid_loans', 'lag1_hicp', 'lag2_hicp']]\n",
    "outcome = model_data['hicp']"
   ]
  },
  {
   "cell_type": "code",
   "execution_count": 97,
   "id": "aa101a31",
   "metadata": {},
   "outputs": [
    {
     "name": "stdout",
     "output_type": "stream",
     "text": [
      "Intercept: 0.856\n",
      "Coefficient 1: -11.094\n",
      "Coefficient 2: 4.676\n",
      "Coefficient 3: 0.063\n",
      "Coefficient 4: -0.112\n",
      "Coefficient 5: 1.046\n",
      "Coefficient 6: -0.393\n"
     ]
    }
   ],
   "source": [
    "model = LinearRegression()\n",
    "model.fit(predictors, outcome)\n",
    "\n",
    "print(f'Intercept: {model.intercept_:.3f}')\n",
    "coefficients = model.coef_\n",
    "for i, coef in enumerate(coefficients):\n",
    "    print(f'Coefficient {i+1}: {coef:.3f}')"
   ]
  },
  {
   "cell_type": "code",
   "execution_count": null,
   "id": "64b8a026",
   "metadata": {},
   "outputs": [],
   "source": []
  }
 ],
 "metadata": {
  "kernelspec": {
   "display_name": "Python 3 (ipykernel)",
   "language": "python",
   "name": "python3"
  },
  "language_info": {
   "codemirror_mode": {
    "name": "ipython",
    "version": 3
   },
   "file_extension": ".py",
   "mimetype": "text/x-python",
   "name": "python",
   "nbconvert_exporter": "python",
   "pygments_lexer": "ipython3",
   "version": "3.11.5"
  }
 },
 "nbformat": 4,
 "nbformat_minor": 5
}
